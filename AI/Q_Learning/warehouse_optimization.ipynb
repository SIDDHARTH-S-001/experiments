{
 "cells": [
  {
   "cell_type": "code",
   "execution_count": 4,
   "metadata": {},
   "outputs": [],
   "source": [
    "import numpy as np"
   ]
  },
  {
   "cell_type": "code",
   "execution_count": 5,
   "metadata": {},
   "outputs": [],
   "source": [
    "gamma = 0.75 # discount factor\n",
    "alpha = 0.9 # learning rate"
   ]
  },
  {
   "cell_type": "code",
   "execution_count": 6,
   "metadata": {},
   "outputs": [],
   "source": [
    "location_to_state = {'A': 0, \n",
    "                     'B': 1, \n",
    "                     'C': 2,\n",
    "                     'D': 3, \n",
    "                     'E': 4,\n",
    "                     'F': 5, \n",
    "                     'G': 6, \n",
    "                     'H': 7,\n",
    "                     'I': 8, \n",
    "                     'J': 9, \n",
    "                     'K': 10,\n",
    "                     'L': 11\n",
    "                     }"
   ]
  },
  {
   "cell_type": "code",
   "execution_count": 7,
   "metadata": {},
   "outputs": [],
   "source": [
    "actions = [0, 1, 2, 3, 4, 5, 6, 7, 8, 9, 10, 11]"
   ]
  },
  {
   "cell_type": "code",
   "execution_count": 8,
   "metadata": {},
   "outputs": [],
   "source": [
    "R = np.array([[0,1,0,0,0,0,0,0,0,0,0,0],\n",
    "            [1,0,1,0,0,1,0,0,0,0,0,0],\n",
    "            [0,1,0,0,0,0,1,0,0,0,0,0],\n",
    "            [0,0,0,0,0,0,0,1,0,0,0,0],\n",
    "            [0,0,0,0,0,0,0,0,1,0,0,0],\n",
    "            [0,1,0,0,0,0,0,0,0,1,0,0],\n",
    "            [0,0,1,0,0,0,1000,1,0,0,0,0],\n",
    "            [0,0,0,1,0,0,1,0,0,0,0,1],\n",
    "            [0,0,0,0,1,0,0,0,0,1,0,0],\n",
    "            [0,0,0,0,0,1,0,0,1,0,1,0],\n",
    "            [0,0,0,0,0,0,0,0,0,1,0,1],\n",
    "            [0,0,0,0,0,0,0,1,0,0,1,0]])"
   ]
  },
  {
   "cell_type": "markdown",
   "metadata": {},
   "source": [
    "Building Solution with Q-Learning"
   ]
  },
  {
   "cell_type": "code",
   "execution_count": 9,
   "metadata": {},
   "outputs": [],
   "source": [
    "# Initialization\n",
    "Q = np.array(np.zeros([12, 12]))"
   ]
  },
  {
   "cell_type": "code",
   "execution_count": 10,
   "metadata": {},
   "outputs": [
    {
     "name": "stdout",
     "output_type": "stream",
     "text": [
      "Q-Values: \n",
      "[[   0 1664    0    0    0    0    0    0    0    0    0    0]\n",
      " [1244    0 2235    0    0 1236    0    0    0    0    0    0]\n",
      " [   0 1664    0    0    0    0 2982    0    0    0    0    0]\n",
      " [   0    0    0    0    0    0    0 2202    0    0    0    0]\n",
      " [   0    0    0    0    0    0    0    0  702    0    0    0]\n",
      " [   0 1664    0    0    0    0    0    0    0  933    0    0]\n",
      " [   0    0 2237    0    0    0 3975 2202    0    0    0    0]\n",
      " [   0    0    0 1652    0    0 2935    0    0    0    0 1652]\n",
      " [   0    0    0    0  527    0    0    0    0  934    0    0]\n",
      " [   0    0    0    0    0 1248    0    0  686    0 1240    0]\n",
      " [   0    0    0    0    0    0    0    0    0  935    0 1652]\n",
      " [   0    0    0    0    0    0    0 2202    0    0 1237    0]]\n"
     ]
    }
   ],
   "source": [
    "# Implementation of Q-Learning process\n",
    "for i in range(1000):\n",
    "    current_state = np.random.randint(0, 12)\n",
    "    playbale_actions = []\n",
    "    for j in range(12):\n",
    "        if R[current_state, j] > 0:\n",
    "            playbale_actions.append(j)\n",
    "    \n",
    "    next_state = np.random.choice(playbale_actions)\n",
    "    TD = R[current_state, next_state] + gamma*Q[next_state, np.argmax(Q[next_state, ])] - Q[current_state, next_state]\n",
    "\n",
    "    Q[current_state, next_state] = Q[current_state, next_state] + alpha*TD\n",
    "\n",
    "print(\"Q-Values: \")\n",
    "print(Q.astype(int))\n",
    "\n",
    "    \n"
   ]
  },
  {
   "cell_type": "markdown",
   "metadata": {},
   "source": [
    "Find the best Route"
   ]
  },
  {
   "cell_type": "code",
   "execution_count": 13,
   "metadata": {},
   "outputs": [],
   "source": [
    "# Creating a map from states to location using a dictionary\n",
    "state_to_location = {state: location for location, state in location_to_state.items()}"
   ]
  },
  {
   "cell_type": "code",
   "execution_count": 17,
   "metadata": {},
   "outputs": [],
   "source": [
    "# Creating the final function that will return the optimal route\n",
    "def route(starting_location, ending_location):\n",
    "    route = [starting_location]\n",
    "    next_location = starting_location\n",
    "\n",
    "    while (next_location != ending_location):\n",
    "            starting_state = location_to_state[starting_location]\n",
    "            next_state = np.argmax(Q[starting_state])\n",
    "            next_location = state_to_location[next_state]\n",
    "            route.append(next_location)\n",
    "            starting_location = next_location\n",
    "        \n",
    "    return route"
   ]
  },
  {
   "cell_type": "code",
   "execution_count": 21,
   "metadata": {},
   "outputs": [
    {
     "name": "stdout",
     "output_type": "stream",
     "text": [
      "Route: \n"
     ]
    },
    {
     "data": {
      "text/plain": [
       "['E', 'I', 'J', 'F', 'B', 'C', 'G']"
      ]
     },
     "execution_count": 21,
     "metadata": {},
     "output_type": "execute_result"
    }
   ],
   "source": [
    "print(\"Route: \")\n",
    "route('E', 'G')"
   ]
  },
  {
   "cell_type": "code",
   "execution_count": null,
   "metadata": {},
   "outputs": [],
   "source": []
  }
 ],
 "metadata": {
  "kernelspec": {
   "display_name": "Python 3",
   "language": "python",
   "name": "python3"
  },
  "language_info": {
   "codemirror_mode": {
    "name": "ipython",
    "version": 3
   },
   "file_extension": ".py",
   "mimetype": "text/x-python",
   "name": "python",
   "nbconvert_exporter": "python",
   "pygments_lexer": "ipython3",
   "version": "3.8.10"
  }
 },
 "nbformat": 4,
 "nbformat_minor": 2
}
