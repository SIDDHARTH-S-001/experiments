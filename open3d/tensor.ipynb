{
 "cells": [
  {
   "cell_type": "code",
   "execution_count": 3,
   "metadata": {},
   "outputs": [],
   "source": [
    "import open3d.core as o3c\n",
    "import numpy as np"
   ]
  },
  {
   "cell_type": "markdown",
   "metadata": {},
   "source": [
    "Tensor Creation"
   ]
  },
  {
   "cell_type": "code",
   "execution_count": 5,
   "metadata": {},
   "outputs": [
    {
     "name": "stdout",
     "output_type": "stream",
     "text": [
      "Created from list:\n",
      "[0 1 2]\n",
      "Tensor[shape={3}, stride={1}, Int64, CPU:0, 0x364d680]\n",
      "\n",
      "Created from numpy array:\n",
      "[0 1 2]\n",
      "Tensor[shape={3}, stride={1}, Int64, CPU:0, 0x3921db0]\n",
      "\n",
      "Default dtype and device:\n",
      "[0 1 2]\n",
      "Tensor[shape={3}, stride={1}, Float64, CPU:0, 0x35f45d0]\n",
      "\n",
      "Specified data type:\n",
      "[0 1 2]\n",
      "Tensor[shape={3}, stride={1}, Float64, CPU:0, 0x39cbe30]\n"
     ]
    }
   ],
   "source": [
    "# Tensor from list.\n",
    "a = o3c.Tensor([0, 1, 2])\n",
    "print(\"Created from list:\\n{}\".format(a))\n",
    "\n",
    "# Tensor from Numpy.\n",
    "a = o3c.Tensor(np.array([0, 1, 2]))\n",
    "print(\"\\nCreated from numpy array:\\n{}\".format(a))\n",
    "\n",
    "# Dtype and inferred from list.\n",
    "a_float = o3c.Tensor([0.0, 1.0, 2.0])\n",
    "print(\"\\nDefault dtype and device:\\n{}\".format(a_float))\n",
    "\n",
    "# Specify dtype.\n",
    "a = o3c.Tensor(np.array([0, 1, 2]), dtype=o3c.Dtype.Float64)\n",
    "print(\"\\nSpecified data type:\\n{}\".format(a))\n",
    "\n",
    "# # Specify device. : CUDA not installed yet\n",
    "# a = o3c.Tensor(np.array([0, 1, 2]), device=o3c.Device(\"CUDA:0\"))\n",
    "# print(\"\\nSpecified device:\\n{}\".format(a))"
   ]
  },
  {
   "cell_type": "code",
   "execution_count": 6,
   "metadata": {},
   "outputs": [
    {
     "name": "stdout",
     "output_type": "stream",
     "text": [
      "Source tensor:\n",
      "[11 2 3]\n",
      "Tensor[shape={3}, stride={1}, Int64, CPU:0, 0x364f280]\n",
      "\n",
      "Target tensor:\n",
      "[11 2 3]\n",
      "Tensor[shape={3}, stride={1}, Int64, CPU:0, 0x364f280]\n"
     ]
    }
   ],
   "source": [
    "# Shallow copy constructor.\n",
    "vals = np.array([1, 2, 3])\n",
    "src = o3c.Tensor(vals)\n",
    "dst = src\n",
    "src[0] += 10\n",
    "\n",
    "# Changes in one will get reflected in other.\n",
    "print(\"Source tensor:\\n{}\".format(src))\n",
    "print(\"\\nTarget tensor:\\n{}\".format(dst))\n",
    "# Stride is the jump necessary to go from one element to the next one in the specified dimension dim "
   ]
  },
  {
   "cell_type": "markdown",
   "metadata": {},
   "source": [
    "Properties of a Tensor"
   ]
  },
  {
   "cell_type": "code",
   "execution_count": 13,
   "metadata": {},
   "outputs": [
    {
     "name": "stdout",
     "output_type": "stream",
     "text": [
      "a.shape: SizeVector[2, 3, 4]\n",
      "a.strides: SizeVector[12, 4, 1]\n",
      "a.dtype: Float64\n",
      "a.device: CPU:0\n",
      "a.ndim: 3\n"
     ]
    }
   ],
   "source": [
    "vals = np.array((range(24))).reshape(2, 3, 4) # generates sequence of integers from 0-23 and converts them into 3D array of shape (2 blocks each having, 3 rows, 4 columns) \n",
    "a = o3c.Tensor(vals, dtype=o3c.Dtype.Float64) # converts 3D numpy array into a 64 bit float tensor\n",
    "print(f\"a.shape: {a.shape}\") # shape: dimensions of tensor\n",
    "print(f\"a.strides: {a.strides}\") # Strides: how many bytes you need to skip to move to the next element along each dimension\n",
    "# To move to the next element in the first dimension (block), you skip 96 bytes.\n",
    "# To move to the next element in the second dimension (row), you skip 32 bytes.\n",
    "# To move to the next element in the third dimension (column), you skip 8 bytes (since each float64 element takes 8 bytes).\n",
    "print(f\"a.dtype: {a.dtype}\")\n",
    "print(f\"a.device: {a.device}\")\n",
    "print(f\"a.ndim: {a.ndim}\")"
   ]
  },
  {
   "cell_type": "markdown",
   "metadata": {},
   "source": [
    "Type Casting"
   ]
  },
  {
   "cell_type": "code",
   "execution_count": 14,
   "metadata": {},
   "outputs": [
    {
     "name": "stdout",
     "output_type": "stream",
     "text": [
      "[0.1 1.5 2.7]\n",
      "Tensor[shape={3}, stride={1}, Float64, CPU:0, 0x3921db0]\n",
      "[0 1 2]\n",
      "Tensor[shape={3}, stride={1}, Int32, CPU:0, 0x3903260]\n"
     ]
    }
   ],
   "source": [
    "# E.g. float -> int\n",
    "a = o3c.Tensor([0.1, 1.5, 2.7])\n",
    "b = a.to(o3c.Dtype.Int32)\n",
    "print(a)\n",
    "print(b)"
   ]
  },
  {
   "cell_type": "code",
   "execution_count": 15,
   "metadata": {},
   "outputs": [
    {
     "name": "stdout",
     "output_type": "stream",
     "text": [
      "[1 2 3]\n",
      "Tensor[shape={3}, stride={1}, Int64, CPU:0, 0x38feb80]\n",
      "[1 2 3]\n",
      "Tensor[shape={3}, stride={1}, Float32, CPU:0, 0x3721020]\n"
     ]
    }
   ],
   "source": [
    "# E.g. int -> float\n",
    "a = o3c.Tensor([1, 2, 3])\n",
    "b = a.to(o3c.Dtype.Float32)\n",
    "print(a)\n",
    "print(b)"
   ]
  },
  {
   "cell_type": "markdown",
   "metadata": {},
   "source": [
    "Numpy I/O with direct memory map"
   ]
  },
  {
   "cell_type": "code",
   "execution_count": 16,
   "metadata": {},
   "outputs": [
    {
     "name": "stdout",
     "output_type": "stream",
     "text": [
      "np_a: [1 1 1 1 1]\n",
      "o3_a: [1 1 1 1 1]\n",
      "Tensor[shape={5}, stride={1}, Int32, CPU:0, 0x39e9cf0]\n",
      "\n",
      "np_a: [101   1   1   1   1]\n",
      "o3_a: [1 201 1 1 1]\n",
      "Tensor[shape={5}, stride={1}, Int32, CPU:0, 0x39e9cf0]\n"
     ]
    }
   ],
   "source": [
    "# Using constructor.\n",
    "np_a = np.ones((5,), dtype=np.int32) # creates a 5x1 array, shape (5,) is shorthand for a one-dimensional array\n",
    "o3_a = o3c.Tensor(np_a)\n",
    "print(f\"np_a: {np_a}\")\n",
    "print(f\"o3_a: {o3_a}\")\n",
    "print(\"\")\n",
    "\n",
    "# Changes to numpy array will not reflect as memory is not shared.\n",
    "np_a[0] += 100\n",
    "o3_a[1] += 200\n",
    "print(f\"np_a: {np_a}\")\n",
    "print(f\"o3_a: {o3_a}\")"
   ]
  },
  {
   "cell_type": "code",
   "execution_count": 17,
   "metadata": {},
   "outputs": [
    {
     "name": "stdout",
     "output_type": "stream",
     "text": [
      "np_a: [101 201   1   1   1]\n",
      "o3_a: [101 201 1 1 1]\n",
      "Tensor[shape={5}, stride={1}, Int32, CPU:0, 0x35b5ea0]\n"
     ]
    }
   ],
   "source": [
    "# From numpy.\n",
    "np_a = np.ones((5,), dtype=np.int32)\n",
    "o3_a = o3c.Tensor.from_numpy(np_a)\n",
    "\n",
    "# Changes to numpy array reflects on open3d Tensor and vice versa.\n",
    "np_a[0] += 100\n",
    "o3_a[1] += 200\n",
    "print(f\"np_a: {np_a}\")\n",
    "print(f\"o3_a: {o3_a}\")"
   ]
  },
  {
   "cell_type": "code",
   "execution_count": 19,
   "metadata": {},
   "outputs": [
    {
     "name": "stdout",
     "output_type": "stream",
     "text": [
      "np_a: [101 201   1   1   1]\n",
      "o3_a: [101 201 1 1 1]\n",
      "Tensor[shape={5}, stride={1}, Int32, CPU:0, 0x3522ab0]\n",
      "\n",
      "o3_a.cpu().numpy(): [1 1 1 1 1]\n"
     ]
    }
   ],
   "source": [
    "# To numpy.\n",
    "o3_a = o3c.Tensor([1, 1, 1, 1, 1], dtype=o3c.Dtype.Int32)\n",
    "np_a = o3_a.numpy()\n",
    "\n",
    "# Changes to numpy array reflects on open3d Tensor and vice versa.\n",
    "np_a[0] += 100\n",
    "o3_a[1] += 200\n",
    "print(f\"np_a: {np_a}\")\n",
    "print(f\"o3_a: {o3_a}\")\n",
    "\n",
    "# For CUDA Tensor, call cpu() before calling numpy().\n",
    "o3_a = o3c.Tensor([1, 1, 1, 1, 1], device=o3c.Device(\"CPU:0\"))\n",
    "print(f\"\\no3_a.cpu().numpy(): {o3_a.cpu().numpy()}\")"
   ]
  },
  {
   "cell_type": "markdown",
   "metadata": {},
   "source": [
    "PyTorch I/O with DLPack memory map"
   ]
  },
  {
   "cell_type": "code",
   "execution_count": 20,
   "metadata": {},
   "outputs": [
    {
     "name": "stdout",
     "output_type": "stream",
     "text": [
      "th_a: tensor([1., 1., 1., 1., 1.])\n",
      "o3_a: [1 1 1 1 1]\n",
      "Tensor[shape={5}, stride={1}, Float32, CPU:0, 0x3a21c40]\n",
      "\n",
      "th_a: tensor([100., 200.,   1.,   1.,   1.])\n",
      "o3_a: [100 200 1 1 1]\n",
      "Tensor[shape={5}, stride={1}, Float32, CPU:0, 0x3a21c40]\n"
     ]
    }
   ],
   "source": [
    "# DLPack is an open in-memory tensor structure for sharing tensors among frameworks.\n",
    "import torch\n",
    "import torch.utils.dlpack\n",
    "\n",
    "# From PyTorch\n",
    "th_a = torch.ones((5,))\n",
    "o3_a = o3c.Tensor.from_dlpack(torch.utils.dlpack.to_dlpack(th_a))\n",
    "print(f\"th_a: {th_a}\")\n",
    "print(f\"o3_a: {o3_a}\")\n",
    "print(\"\")\n",
    "\n",
    "# Changes to PyTorch array reflects on open3d Tensor and vice versa\n",
    "th_a[0] = 100\n",
    "o3_a[1] = 200\n",
    "print(f\"th_a: {th_a}\")\n",
    "print(f\"o3_a: {o3_a}\")"
   ]
  },
  {
   "cell_type": "markdown",
   "metadata": {},
   "source": []
  },
  {
   "cell_type": "code",
   "execution_count": 22,
   "metadata": {},
   "outputs": [
    {
     "name": "stdout",
     "output_type": "stream",
     "text": [
      "th_a: tensor([1, 1, 1, 1, 1])\n",
      "o3_a: [1 1 1 1 1]\n",
      "Tensor[shape={5}, stride={1}, Int64, CPU:0, 0x8815fc0]\n",
      "\n",
      "th_a: tensor([100, 200,   1,   1,   1])\n",
      "o3_a: [100 200 1 1 1]\n",
      "Tensor[shape={5}, stride={1}, Int64, CPU:0, 0x8815fc0]\n"
     ]
    }
   ],
   "source": [
    "# To PyTorch\n",
    "o3_a = o3c.Tensor([1, 1, 1, 1, 1], device=o3c.Device(\"CPU:0\"))\n",
    "th_a = torch.utils.dlpack.from_dlpack(o3_a.to_dlpack())\n",
    "o3_a = o3c.Tensor.from_dlpack(torch.utils.dlpack.to_dlpack(th_a))\n",
    "print(f\"th_a: {th_a}\")\n",
    "print(f\"o3_a: {o3_a}\")\n",
    "print(\"\")\n",
    "\n",
    "# Changes to PyTorch array reflects on open3d Tensor and vice versa\n",
    "th_a[0] = 100\n",
    "o3_a[1] = 200\n",
    "print(f\"th_a: {th_a}\")\n",
    "print(f\"o3_a: {o3_a}\")"
   ]
  },
  {
   "cell_type": "markdown",
   "metadata": {},
   "source": [
    "Binary element-wise operation"
   ]
  },
  {
   "cell_type": "code",
   "execution_count": 23,
   "metadata": {},
   "outputs": [
    {
     "name": "stdout",
     "output_type": "stream",
     "text": [
      "a + b = [3 3 3]\n",
      "Tensor[shape={3}, stride={1}, Float32, CPU:0, 0x812e5f0]\n",
      "a - b = [-1 -1 -1]\n",
      "Tensor[shape={3}, stride={1}, Float32, CPU:0, 0x3a21c40]\n",
      "a * b = [2 2 2]\n",
      "Tensor[shape={3}, stride={1}, Float32, CPU:0, 0x8811740]\n",
      "a / b = [0.5 0.5 0.5]\n",
      "Tensor[shape={3}, stride={1}, Float32, CPU:0, 0x889a850]\n"
     ]
    }
   ],
   "source": [
    "a = o3c.Tensor([1, 1, 1], dtype=o3c.Dtype.Float32)\n",
    "b = o3c.Tensor([2, 2, 2], dtype=o3c.Dtype.Float32)\n",
    "print(\"a + b = {}\".format(a + b))\n",
    "print(\"a - b = {}\".format(a - b))\n",
    "print(\"a * b = {}\".format(a * b))\n",
    "print(\"a / b = {}\".format(a / b))"
   ]
  },
  {
   "cell_type": "code",
   "execution_count": 24,
   "metadata": {},
   "outputs": [
    {
     "name": "stdout",
     "output_type": "stream",
     "text": [
      "a + b = \n",
      "[[2 2 2],\n",
      " [2 2 2]]\n",
      "Tensor[shape={2, 3}, stride={3, 1}, Float32, CPU:0, 0x8811b80]\n",
      "\n",
      "a + 1 = [2 2 2]\n",
      "Tensor[shape={3}, stride={1}, Float32, CPU:0, 0x896bcd0]\n",
      "a + True = [2 2 2]\n",
      "Tensor[shape={3}, stride={1}, Float32, CPU:0, 0x60fd030]\n",
      "a = [0 0 0]\n",
      "Tensor[shape={3}, stride={1}, Float32, CPU:0, 0x46a57e0]\n"
     ]
    }
   ],
   "source": [
    "# Type casting: When two operands with different data types are used in an operation, \n",
    "# Python or the underlying library automatically converts one of them to match the other's type, in a way that avoids data loss\n",
    "\n",
    "# Broadcasting: A technique used in tensor operations where tensors of different shapes can be combined without explicitly reshaping them. \n",
    "# The smaller tensor is \"broadcast\" to match the shape of the larger tensor.\n",
    "\n",
    "# Automatic type casting is done in a way to avoid data loss.\n",
    "# Automatic broadcasting.\n",
    "a = o3c.Tensor.ones((2, 3), dtype=o3c.Dtype.Float32)\n",
    "b = o3c.Tensor.ones((3,), dtype=o3c.Dtype.Float32) # 1D tensor\n",
    "print(\"a + b = \\n{}\\n\".format(a + b)) # The tensor b is broadcast to match the shape of a. \n",
    "# This means b is essentially repeated (row-wise) to match the 2 rows of a.\n",
    "\n",
    "# Automatic type casting.\n",
    "a = a[0]\n",
    "print(\"a + 1 = {}\".format(a + 1))  # Float + Int -> Float.\n",
    "print(\"a + True = {}\".format(a + True))  # Float + Bool -> Float.\n",
    "\n",
    "# Inplace. Meaning a tensor is modified without creating a new tensor\n",
    "a -= True # True is again cast to 1.0, and the operation a -= True subtracts 1.0 from each element of a.\n",
    "print(\"a = {}\".format(a))"
   ]
  },
  {
   "cell_type": "markdown",
   "metadata": {},
   "source": [
    "Unary element-wise operation"
   ]
  },
  {
   "cell_type": "code",
   "execution_count": 25,
   "metadata": {},
   "outputs": [
    {
     "name": "stdout",
     "output_type": "stream",
     "text": [
      "a = [4 9 16]\n",
      "Tensor[shape={3}, stride={1}, Float32, CPU:0, 0x8835600]\n",
      "\n",
      "a.sqrt = [2 3 4]\n",
      "Tensor[shape={3}, stride={1}, Float32, CPU:0, 0x87f80a0]\n",
      "\n",
      "a.sin = [-0.75680244 0.41211867 -0.2879029]\n",
      "Tensor[shape={3}, stride={1}, Float32, CPU:0, 0x87fd400]\n",
      "\n",
      "a.cos = [-0.65364367 -0.9111302 -0.9576596]\n",
      "Tensor[shape={3}, stride={1}, Float32, CPU:0, 0x889a850]\n",
      "\n",
      "[2 3 4]\n",
      "Tensor[shape={3}, stride={1}, Float32, CPU:0, 0x8835600]\n"
     ]
    }
   ],
   "source": [
    "a = o3c.Tensor([4, 9, 16], dtype=o3c.Dtype.Float32)\n",
    "print(\"a = {}\\n\".format(a))\n",
    "print(\"a.sqrt = {}\\n\".format(a.sqrt()))\n",
    "print(\"a.sin = {}\\n\".format(a.sin()))\n",
    "print(\"a.cos = {}\\n\".format(a.cos()))\n",
    "\n",
    "# Inplace operation, can be noted from the memory location\n",
    "a.sqrt_()\n",
    "print(a)"
   ]
  },
  {
   "cell_type": "markdown",
   "metadata": {},
   "source": [
    "Reduction"
   ]
  },
  {
   "cell_type": "code",
   "execution_count": 26,
   "metadata": {},
   "outputs": [
    {
     "name": "stdout",
     "output_type": "stream",
     "text": [
      "a.sum = 276\n",
      "Tensor[shape={}, stride={}, Int64, CPU:0, 0x5ee73c0]\n",
      "\n",
      "a.min = 0\n",
      "Tensor[shape={}, stride={}, Int64, CPU:0, 0x8811740]\n",
      "\n",
      "a.ArgMax = 23\n",
      "Tensor[shape={}, stride={}, Int64, CPU:0, 0x896bcd0]\n",
      "\n"
     ]
    }
   ],
   "source": [
    "vals = np.array(range(24)).reshape((2, 3, 4))\n",
    "a = o3c.Tensor(vals)\n",
    "print(\"a.sum = {}\\n\".format(a.sum()))\n",
    "print(\"a.min = {}\\n\".format(a.min()))\n",
    "print(\"a.ArgMax = {}\\n\".format(a.argmax()))"
   ]
  },
  {
   "cell_type": "code",
   "execution_count": 27,
   "metadata": {},
   "outputs": [
    {
     "name": "stdout",
     "output_type": "stream",
     "text": [
      "Along dim=0\n",
      "[[12 14 16 18],\n",
      " [20 22 24 26],\n",
      " [28 30 32 34]]\n",
      "Tensor[shape={3, 4}, stride={4, 1}, Int64, CPU:0, 0x8811e20]\n",
      "Along dim=(0, 2)\n",
      "[60 92 124]\n",
      "Tensor[shape={3}, stride={1}, Int64, CPU:0, 0x5fdf3c0]\n",
      "\n",
      "Shape without retention : SizeVector[3]\n",
      "Shape with retention : SizeVector[1, 3, 1]\n"
     ]
    }
   ],
   "source": [
    "# With specified dimension.\n",
    "vals = np.array(range(24)).reshape((2, 3, 4))\n",
    "a = o3c.Tensor(vals)\n",
    "\n",
    "print(\"Along dim=0\\n{}\".format(a.sum(dim=(0)))) # sums across the first dimension (dim=0), which corresponds to summing across the two \"blocks\" of the tensor\n",
    "print(\"Along dim=(0, 2)\\n{}\\n\".format(a.sum(dim=(0, 2)))) # sums across both the first dimension (dim=0) which is block and the last dimension (dim=2) which is column \n",
    "\n",
    "# Retention of reduced dimension.\n",
    "print(\"Shape without retention : {}\".format(a.sum(dim=(0, 2)).shape))\n",
    "print(\"Shape with retention : {}\".format(a.sum(dim=(0, 2), keepdim=True).shape)) # useful when you need to maintain compatibility with the original tensor shape."
   ]
  },
  {
   "cell_type": "markdown",
   "metadata": {},
   "source": [
    "Slicing, indexing, getitem, and setitem"
   ]
  },
  {
   "cell_type": "code",
   "execution_count": 28,
   "metadata": {},
   "outputs": [
    {
     "name": "stdout",
     "output_type": "stream",
     "text": [
      "a = \n",
      "[[[0 1 2 3],\n",
      "  [4 5 6 7],\n",
      "  [8 9 10 11]],\n",
      " [[12 13 14 15],\n",
      "  [16 17 18 19],\n",
      "  [20 21 22 23]]]\n",
      "Tensor[shape={2, 3, 4}, stride={12, 4, 1}, Int64, CPU:0, 0x89737f0]\n",
      "\n",
      "a[1, 2] = [20 21 22 23]\n",
      "Tensor[shape={4}, stride={1}, Int64, CPU:0, 0x8973890]\n",
      "\n",
      "a[1:] = \n",
      "[[[12 13 14 15],\n",
      "  [16 17 18 19],\n",
      "  [20 21 22 23]]]\n",
      "Tensor[shape={1, 3, 4}, stride={12, 4, 1}, Int64, CPU:0, 0x8973850]\n",
      "\n",
      "a[:, 0:3:2, :] = \n",
      "[[[0 1 2 3],\n",
      "  [8 9 10 11]],\n",
      " [[12 13 14 15],\n",
      "  [20 21 22 23]]]\n",
      "Tensor[shape={2, 2, 4}, stride={8, 4, 1}, Int64, CPU:0, 0x896c7a0]\n",
      "Tensor[shape={2, 2, 4}, stride={12, 8, 1}, Int64, CPU:0, 0x89737f0]\n",
      "\n",
      "a[:-1, 0:3:2, 2] = \n",
      "[[2 10]]\n",
      "Tensor[shape={1, 2}, stride={2, 1}, Int64, CPU:0, 0x5fdf3c0]\n",
      "Tensor[shape={1, 2}, stride={12, 8}, Int64, CPU:0, 0x8973800]\n",
      "\n"
     ]
    }
   ],
   "source": [
    "vals = np.array(range(24)).reshape((2, 3, 4))\n",
    "a = o3c.Tensor(vals)\n",
    "print(\"a = \\n{}\\n\".format(a))\n",
    "\n",
    "# Indexing __getitem__.\n",
    "print(\"a[1, 2] = {}\\n\".format(a[1, 2]))\n",
    "\n",
    "# Slicing __getitem__.\n",
    "print(\"a[1:] = \\n{}\\n\".format(a[1:]))\n",
    "\n",
    "# slice object.\n",
    "print(\"a[:, 0:3:2, :] = \\n{}\\n\".format(a[:, 0:3:2, :]))\n",
    "\n",
    "# Combined __getitem__\n",
    "print(\"a[:-1, 0:3:2, 2] = \\n{}\\n\".format(a[:-1, 0:3:2, 2]))"
   ]
  },
  {
   "cell_type": "code",
   "execution_count": 29,
   "metadata": {},
   "outputs": [
    {
     "name": "stdout",
     "output_type": "stream",
     "text": [
      "b = [[102 110]]\n",
      "Tensor[shape={1, 2}, stride={2, 1}, Int64, CPU:0, 0x3a21c40]\n",
      "Tensor[shape={1, 2}, stride={12, 8}, Int64, CPU:0, 0x896b0f0]\n",
      "\n",
      "a = \n",
      "[[[0 1 102 3],\n",
      "  [4 5 6 7],\n",
      "  [8 9 110 11]],\n",
      " [[12 13 14 15],\n",
      "  [16 17 18 19],\n",
      "  [20 21 22 23]]]\n",
      "Tensor[shape={2, 3, 4}, stride={12, 4, 1}, Int64, CPU:0, 0x896b0e0]\n"
     ]
    }
   ],
   "source": [
    "vals = np.array(range(24)).reshape((2, 3, 4))\n",
    "a = o3c.Tensor(vals)\n",
    "\n",
    "# Changes get reflected.\n",
    "b = a[:-1, 0:3:2, 2]\n",
    "b[0] += 100\n",
    "print(\"b = {}\\n\".format(b))\n",
    "print(\"a = \\n{}\".format(a))"
   ]
  },
  {
   "cell_type": "code",
   "execution_count": 30,
   "metadata": {},
   "outputs": [
    {
     "name": "stdout",
     "output_type": "stream",
     "text": [
      "[[[0 1 102 3],\n",
      "  [4 5 106 7],\n",
      "  [8 9 110 11]],\n",
      " [[12 13 114 15],\n",
      "  [16 17 118 19],\n",
      "  [20 21 122 23]]]\n",
      "Tensor[shape={2, 3, 4}, stride={12, 4, 1}, Int64, CPU:0, 0x89737f0]\n"
     ]
    }
   ],
   "source": [
    "vals = np.array(range(24)).reshape((2, 3, 4))\n",
    "a = o3c.Tensor(vals)\n",
    "\n",
    "# Example __setitem__\n",
    "a[:, :, 2] += 100\n",
    "print(a)"
   ]
  },
  {
   "cell_type": "markdown",
   "metadata": {},
   "source": [
    "Checking Broadcast Compatibility using Numpy\n",
    "\n",
    "Let's assume two arrays A and B with shapes (m, n) and (p, q):\n",
    "\n",
    "If n == q and m == p, they are directly compatible.\n",
    "\n",
    "If n == q and m == 1, the first array (with shape (1, n)) will be broadcast across the rows.\n",
    "\n",
    "If n == q and p == 1, the second array (with shape (p, q)) will be broadcast across the rows."
   ]
  },
  {
   "cell_type": "code",
   "execution_count": 32,
   "metadata": {},
   "outputs": [
    {
     "name": "stdout",
     "output_type": "stream",
     "text": [
      "The arrays are not broadcast-compatible.\n"
     ]
    }
   ],
   "source": [
    "import numpy as np\n",
    "\n",
    "# Define two arrays\n",
    "A = np.random.rand(4, 2)\n",
    "B = np.random.rand(3, 4, 5)\n",
    "\n",
    "# Check broadcasting compatibility\n",
    "try:\n",
    "    np.broadcast(A, B)  # If no error, they are broadcast-compatible\n",
    "    print(\"The arrays are broadcast-compatible.\")\n",
    "except ValueError:\n",
    "    print(\"The arrays are not broadcast-compatible.\")\n"
   ]
  },
  {
   "cell_type": "markdown",
   "metadata": {},
   "source": [
    "Advanced indexing"
   ]
  },
  {
   "cell_type": "code",
   "execution_count": 33,
   "metadata": {},
   "outputs": [
    {
     "name": "stdout",
     "output_type": "stream",
     "text": [
      "a[[0, 1], [1, 2], [1, 0]] = [5 20]\n",
      "Tensor[shape={2}, stride={1}, Int64, CPU:0, 0x880df70]\n",
      "\n",
      "b = [101 5]\n",
      "Tensor[shape={2}, stride={1}, Int64, CPU:0, 0x8815b40]\n",
      "\n",
      "a[[0, 0], [0, 1], [1, 1]] = [1 5]\n",
      "Tensor[shape={2}, stride={1}, Int64, CPU:0, 0x8966f90]\n"
     ]
    }
   ],
   "source": [
    "# Advanced indexing always returns a copy of the data (contrast with basic slicing that returns a view). \n",
    "# Integer array indexing Integer array indexing allows selection of arbitrary items in the tensor based on their dimensional index.\n",
    "# Indexes passed should be broadcast compatible.\n",
    "vals = np.array(range(24)).reshape((2, 3, 4))\n",
    "a = o3c.Tensor(vals)\n",
    "\n",
    "# Along each dimension, a specific element is selected.\n",
    "print(\"a[[0, 1], [1, 2], [1, 0]] = {}\\n\".format(a[[0, 1], [1, 2], [1, 0]]))\n",
    "\n",
    "# Changes not reflected as it is a copy.\n",
    "b = a[[0, 0], [0, 1], [1, 1]]\n",
    "b[0] += 100\n",
    "print(\"b = {}\\n\".format(b))\n",
    "print(\"a[[0, 0], [0, 1], [1, 1]] = {}\".format(a[[0, 0], [0, 1], [1, 1]]))"
   ]
  },
  {
   "cell_type": "markdown",
   "metadata": {},
   "source": [
    "Combining Basic and Advanced Indexing"
   ]
  },
  {
   "cell_type": "code",
   "execution_count": 34,
   "metadata": {},
   "outputs": [
    {
     "name": "stdout",
     "output_type": "stream",
     "text": [
      "a[1, 0:2, [1, 2]] = \n",
      "[[13 17],\n",
      " [14 18]]\n",
      "Tensor[shape={2, 2}, stride={2, 1}, Int64, CPU:0, 0x3a49390]\n",
      "\n",
      "a[(0, 1)] = [4 5 6 7]\n",
      "Tensor[shape={4}, stride={1}, Int64, CPU:0, 0x8973810]\n",
      "\n",
      "a[[0, 1] = \n",
      "[[[0 1 2 3],\n",
      "  [4 5 6 7],\n",
      "  [8 9 10 11]],\n",
      " [[12 13 14 15],\n",
      "  [16 17 18 19],\n",
      "  [20 21 22 23]]]\n",
      "Tensor[shape={2, 3, 4}, stride={12, 4, 1}, Int64, CPU:0, 0x39e2bc0]\n",
      "\n",
      "a[1, [[1, 2], [2, 1]], 0:4:2, [3, 4]] = \n",
      "[[[83 93],\n",
      "  [104 114]],\n",
      " [[103 113],\n",
      "  [84 94]]]\n",
      "Tensor[shape={2, 2, 2}, stride={4, 2, 1}, Int64, CPU:0, 0x8967a80]\n",
      "\n"
     ]
    }
   ],
   "source": [
    "vals = np.array(range(24)).reshape((2, 3, 4))\n",
    "a = o3c.Tensor(vals)\n",
    "\n",
    "print(\"a[1, 0:2, [1, 2]] = \\n{}\\n\".format(a[1, 0:2, [1, 2]]))\n",
    "\n",
    "# Subtle difference in selection and advanced indexing.\n",
    "print(\"a[(0, 1)] = {}\\n\".format(a[(0, 1)]))\n",
    "print(\"a[[0, 1] = \\n{}\\n\".format(a[[0, 1]]))\n",
    "\n",
    "a = o3c.Tensor(np.array(range(120)).reshape((2, 3, 4, 5)))\n",
    "\n",
    "# Interleaving slice and advanced indexing.\n",
    "print(\"a[1, [[1, 2], [2, 1]], 0:4:2, [3, 4]] = \\n{}\\n\".format(\n",
    "    a[1, [[1, 2], [2, 1]], 0:4:2, [3, 4]]))"
   ]
  },
  {
   "cell_type": "markdown",
   "metadata": {},
   "source": [
    "Boolean Array Indexing"
   ]
  },
  {
   "cell_type": "code",
   "execution_count": 35,
   "metadata": {},
   "outputs": [
    {
     "name": "stdout",
     "output_type": "stream",
     "text": [
      "a = [1 -1 -2 3]\n",
      "Tensor[shape={4}, stride={1}, Int64, CPU:0, 0x89717d0]\n",
      "\n",
      "a = [1 19 18 3]\n",
      "Tensor[shape={4}, stride={1}, Int64, CPU:0, 0x89717d0]\n",
      "\n"
     ]
    }
   ],
   "source": [
    "a = o3c.Tensor(np.array([1, -1, -2, 3]))\n",
    "print(\"a = {}\\n\".format(a))\n",
    "\n",
    "# Add constant to all negative numbers.\n",
    "a[a < 0] += 20\n",
    "print(\"a = {}\\n\".format(a))"
   ]
  },
  {
   "cell_type": "markdown",
   "metadata": {},
   "source": [
    "Logical Operations"
   ]
  },
  {
   "cell_type": "code",
   "execution_count": 36,
   "metadata": {},
   "outputs": [
    {
     "name": "stdout",
     "output_type": "stream",
     "text": [
      "a AND b = [True False False False]\n",
      "Tensor[shape={4}, stride={1}, Bool, CPU:0, 0x3880890]\n",
      "a OR b = [True True True False]\n",
      "Tensor[shape={4}, stride={1}, Bool, CPU:0, 0x366c480]\n",
      "a XOR b = [False True True False]\n",
      "Tensor[shape={4}, stride={1}, Bool, CPU:0, 0x641cdc0]\n",
      "NOT a = [False True False True]\n",
      "Tensor[shape={4}, stride={1}, Bool, CPU:0, 0x3966020]\n",
      "\n",
      "a.any = True\n",
      "Tensor[shape={}, stride={}, Bool, CPU:0, 0x5fdf3c0]\n",
      "a.all = False\n",
      "Tensor[shape={}, stride={}, Bool, CPU:0, 0x60fd030]\n",
      "\n",
      "c AND d = [False False True False]\n",
      "Tensor[shape={4}, stride={1}, Bool, CPU:0, 0x8815b40]\n"
     ]
    }
   ],
   "source": [
    "a = o3c.Tensor(np.array([True, False, True, False]))\n",
    "b = o3c.Tensor(np.array([True, True, False, False]))\n",
    "\n",
    "print(\"a AND b = {}\".format(a.logical_and(b)))\n",
    "print(\"a OR b = {}\".format(a.logical_or(b)))\n",
    "print(\"a XOR b = {}\".format(a.logical_xor(b)))\n",
    "print(\"NOT a = {}\\n\".format(a.logical_not()))\n",
    "\n",
    "# Only works for boolean tensors.\n",
    "print(\"a.any = {}\".format(a.any())) # any - returns true if any element in the tensor is true\n",
    "print(\"a.all = {}\\n\".format(a.all())) # all - returns true if all elements in the tensor are true\n",
    "\n",
    "# If tensor is not boolean, 0 will be treated as False, while non-zero as true.\n",
    "# The tensor will be filled with 0 or 1 casted to tensor's dtype.\n",
    "c = o3c.Tensor(np.array([2.0, 0.0, 3.5, 0.0]))\n",
    "d = o3c.Tensor(np.array([0.0, 3.0, 1.5, 0.0]))\n",
    "print(\"c AND d = {}\".format(c.logical_and(d)))"
   ]
  },
  {
   "cell_type": "code",
   "execution_count": 37,
   "metadata": {},
   "outputs": [
    {
     "name": "stdout",
     "output_type": "stream",
     "text": [
      "allclose : True\n",
      "isclose : [True True True True]\n",
      "Tensor[shape={4}, stride={1}, Bool, CPU:0, 0x3966020]\n",
      "issame : False\n"
     ]
    }
   ],
   "source": [
    "a = o3c.Tensor(np.array([1, 2, 3, 4]), dtype=o3c.Dtype.Float64)\n",
    "b = o3c.Tensor(np.array([1, 1.99999, 3, 4]))\n",
    "\n",
    "# Throws exception if the device/dtype is not same.\n",
    "# Returns false if the shape is not same.\n",
    "print(\"allclose : {}\".format(a.allclose(b))) # allclose - returns true if two tensors are element wise equal within a tolerance.\n",
    "\n",
    "# Throws exception if the device/dtype/shape is not same.\n",
    "print(\"isclose : {}\".format(a.isclose(b))) # isclose - returns tensor with element wise allclose operation.\n",
    "\n",
    "# Returns false if the device/dtype/shape/ is not same.\n",
    "print(\"issame : {}\".format(a.issame(b))) # issame - returns true if and only if two tensors are same(even same underlying memory)."
   ]
  },
  {
   "cell_type": "markdown",
   "metadata": {},
   "source": [
    "Comparison Operations"
   ]
  },
  {
   "cell_type": "code",
   "execution_count": 38,
   "metadata": {},
   "outputs": [
    {
     "name": "stdout",
     "output_type": "stream",
     "text": [
      "a > b = [False True False]\n",
      "Tensor[shape={3}, stride={1}, Bool, CPU:0, 0x880df70]\n",
      "a >= b = [True True False]\n",
      "Tensor[shape={3}, stride={1}, Bool, CPU:0, 0x60e6550]\n",
      "a < b = [False False True]\n",
      "Tensor[shape={3}, stride={1}, Bool, CPU:0, 0x4cc5340]\n",
      "a <= b = [True False True]\n",
      "Tensor[shape={3}, stride={1}, Bool, CPU:0, 0x812e5f0]\n",
      "a == b = [True False False]\n",
      "Tensor[shape={3}, stride={1}, Bool, CPU:0, 0x4cc5340]\n",
      "a != b = [False True True]\n",
      "Tensor[shape={3}, stride={1}, Bool, CPU:0, 0x812e5f0]\n",
      "a > b = [False True False]\n",
      "Tensor[shape={3}, stride={1}, Bool, CPU:0, 0x87f8980]\n"
     ]
    }
   ],
   "source": [
    "a = o3c.Tensor([0, 1, -1])\n",
    "b = o3c.Tensor([0, 0, 0])\n",
    "\n",
    "print(\"a > b = {}\".format(a > b))\n",
    "print(\"a >= b = {}\".format(a >= b))\n",
    "print(\"a < b = {}\".format(a < b))\n",
    "print(\"a <= b = {}\".format(a <= b))\n",
    "print(\"a == b = {}\".format(a == b))\n",
    "print(\"a != b = {}\".format(a != b))\n",
    "\n",
    "# Throws exception if device/dtype is not shape.\n",
    "# If shape is not same, then tensors should be broadcast compatible.\n",
    "print(\"a > b = {}\".format(a > b[0]))"
   ]
  },
  {
   "cell_type": "markdown",
   "metadata": {},
   "source": [
    "Nonzero operations"
   ]
  },
  {
   "cell_type": "code",
   "execution_count": 39,
   "metadata": {},
   "outputs": [
    {
     "name": "stdout",
     "output_type": "stream",
     "text": [
      "a = \n",
      "[[3 0 0],\n",
      " [0 4 0],\n",
      " [5 6 0]]\n",
      "Tensor[shape={3, 3}, stride={3, 1}, Int64, CPU:0, 0x351dc10]\n",
      "\n",
      "a.nonzero() = \n",
      "[[0 1 2 2]\n",
      "Tensor[shape={4}, stride={1}, Int64, CPU:0, 0x896b820], [0 1 0 1]\n",
      "Tensor[shape={4}, stride={1}, Int64, CPU:0, 0x3a49390]]\n",
      "\n",
      "a.nonzero(as_tuple = 1) = \n",
      "[[0 1 2 2],\n",
      " [0 1 0 1]]\n",
      "Tensor[shape={2, 4}, stride={4, 1}, Int64, CPU:0, 0x896bca0]\n"
     ]
    }
   ],
   "source": [
    "a = o3c.Tensor([[3, 0, 0], [0, 4, 0], [5, 6, 0]])\n",
    "\n",
    "print(\"a = \\n{}\\n\".format(a)) #\n",
    "print(\"a.nonzero() = \\n{}\\n\".format(a.nonzero()))\n",
    "print(\"a.nonzero(as_tuple = 1) = \\n{}\".format(a.nonzero(as_tuple=1)))"
   ]
  },
  {
   "cell_type": "code",
   "execution_count": null,
   "metadata": {},
   "outputs": [],
   "source": []
  }
 ],
 "metadata": {
  "kernelspec": {
   "display_name": "Python 3",
   "language": "python",
   "name": "python3"
  },
  "language_info": {
   "codemirror_mode": {
    "name": "ipython",
    "version": 3
   },
   "file_extension": ".py",
   "mimetype": "text/x-python",
   "name": "python",
   "nbconvert_exporter": "python",
   "pygments_lexer": "ipython3",
   "version": "3.8.10"
  }
 },
 "nbformat": 4,
 "nbformat_minor": 2
}
